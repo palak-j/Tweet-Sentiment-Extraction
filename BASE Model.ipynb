{
 "cells": [
  {
   "cell_type": "code",
   "execution_count": 1,
   "metadata": {},
   "outputs": [],
   "source": [
    "import pandas as pd\n",
    "import numpy as np\n",
    "import os\n",
    "import re\n",
    "import string\n",
    "from numpy import asarray\n",
    "from numpy import zeros\n",
    "from sklearn.model_selection import train_test_split\n",
    "from tensorflow.keras.preprocessing.text import Tokenizer\n",
    "import tensorflow as tf\n",
    "from tensorflow.keras.models import Model\n",
    "from tensorflow.keras.layers import Embedding,Dense,Dropout,Concatenate,Flatten,Input,GRU,BatchNormalization,Bidirectional,SpatialDropout1D,LSTM,LayerNormalization\n",
    "from tensorflow.keras.regularizers import l2\n",
    "from tensorflow.keras.preprocessing.sequence import pad_sequences\n"
   ]
  },
  {
   "cell_type": "code",
   "execution_count": 2,
   "metadata": {},
   "outputs": [],
   "source": [
    "#import clean training data and test data\n",
    "\n",
    "train_df = pd.read_csv('cleaned_data.csv')\n",
    "test_df = pd.read_csv('test.csv')"
   ]
  },
  {
   "cell_type": "code",
   "execution_count": 3,
   "metadata": {},
   "outputs": [
    {
     "data": {
      "text/html": [
       "<div>\n",
       "<style scoped>\n",
       "    .dataframe tbody tr th:only-of-type {\n",
       "        vertical-align: middle;\n",
       "    }\n",
       "\n",
       "    .dataframe tbody tr th {\n",
       "        vertical-align: top;\n",
       "    }\n",
       "\n",
       "    .dataframe thead th {\n",
       "        text-align: right;\n",
       "    }\n",
       "</style>\n",
       "<table border=\"1\" class=\"dataframe\">\n",
       "  <thead>\n",
       "    <tr style=\"text-align: right;\">\n",
       "      <th></th>\n",
       "      <th>textID</th>\n",
       "      <th>text</th>\n",
       "      <th>selected_text</th>\n",
       "      <th>sentiment</th>\n",
       "    </tr>\n",
       "  </thead>\n",
       "  <tbody>\n",
       "    <tr>\n",
       "      <th>8698</th>\n",
       "      <td>12f21c8f19</td>\n",
       "      <td>star wars  is  boo i wanna do your job hand i...</td>\n",
       "      <td>NaN</td>\n",
       "      <td>positive</td>\n",
       "    </tr>\n",
       "    <tr>\n",
       "      <th>23992</th>\n",
       "      <td>699ccfe91f</td>\n",
       "      <td>trying to finish my ignmentplease god help me ...</td>\n",
       "      <td>NaN</td>\n",
       "      <td>negative</td>\n",
       "    </tr>\n",
       "  </tbody>\n",
       "</table>\n",
       "</div>"
      ],
      "text/plain": [
       "           textID                                               text  \\\n",
       "8698   12f21c8f19   star wars  is  boo i wanna do your job hand i...   \n",
       "23992  699ccfe91f  trying to finish my ignmentplease god help me ...   \n",
       "\n",
       "      selected_text sentiment  \n",
       "8698            NaN  positive  \n",
       "23992           NaN  negative  "
      ]
     },
     "execution_count": 3,
     "metadata": {},
     "output_type": "execute_result"
    }
   ],
   "source": [
    "# We still have some rows with nan value, so we have to remove those.\n",
    "\n",
    "train_df[train_df.selected_text.isna()]"
   ]
  },
  {
   "cell_type": "code",
   "execution_count": 4,
   "metadata": {},
   "outputs": [],
   "source": [
    "train_df.dropna(axis = 0, inplace=True)"
   ]
  },
  {
   "cell_type": "code",
   "execution_count": 5,
   "metadata": {},
   "outputs": [],
   "source": [
    "#Finding start index of the selected_text in the text\n",
    "\n",
    "def find_start_indices(x):\n",
    "    text,sel_text  = x[0],x[1]\n",
    "    text = text.split()\n",
    "    sel_text = sel_text.split()\n",
    "    end = sel_text[0]\n",
    "    index = text.index(end)\n",
    "    return index\n",
    "\n",
    "#Finding end index of the selected_text in the text\n",
    "\n",
    "def find_end_indices(x):\n",
    "    text,sel_text,start_indices  = x[0],x[1],x[2]\n",
    "    text = text.split()\n",
    "    sel_text = sel_text.split()\n",
    "    end = sel_text[-1]\n",
    "    try:\n",
    "        index = text.index(end,start_indices)\n",
    "    except:\n",
    "        index = text.index(end)\n",
    "        \n",
    "    return index"
   ]
  },
  {
   "cell_type": "code",
   "execution_count": 6,
   "metadata": {},
   "outputs": [],
   "source": [
    "train_df['start_indices'] = train_df[['text','selected_text']].apply(lambda x:find_start_indices(x),axis=1)\n",
    "\n",
    "train_df['end_indices'] = train_df[['text','selected_text','start_indices']].apply(lambda x:find_end_indices(x),axis=1)"
   ]
  },
  {
   "cell_type": "code",
   "execution_count": null,
   "metadata": {},
   "outputs": [],
   "source": []
  },
  {
   "cell_type": "code",
   "execution_count": 7,
   "metadata": {},
   "outputs": [
    {
     "data": {
      "text/plain": [
       "(95, 6)"
      ]
     },
     "execution_count": 7,
     "metadata": {},
     "output_type": "execute_result"
    }
   ],
   "source": [
    "train_df[train_df.end_indices<train_df.start_indices ].shape\n",
    "\n",
    "# From here, we can see that there are few records where start index is greater than the end index. \n",
    "# So we have to remove those records from our training data."
   ]
  },
  {
   "cell_type": "code",
   "execution_count": 8,
   "metadata": {},
   "outputs": [],
   "source": [
    "#Take only those rows into consideration where start index is smaller or equal to the end index.\n",
    "\n",
    "train_df = train_df[train_df.end_indices>=train_df.start_indices ]"
   ]
  },
  {
   "cell_type": "code",
   "execution_count": 9,
   "metadata": {},
   "outputs": [],
   "source": [
    "X = train_df[['text','sentiment']]\n",
    "y = train_df[['start_indices','end_indices']]"
   ]
  },
  {
   "cell_type": "code",
   "execution_count": 10,
   "metadata": {},
   "outputs": [
    {
     "data": {
      "text/plain": [
       "((27279, 2), (27279, 2))"
      ]
     },
     "execution_count": 10,
     "metadata": {},
     "output_type": "execute_result"
    }
   ],
   "source": [
    "X.shape,y.shape"
   ]
  },
  {
   "cell_type": "code",
   "execution_count": 11,
   "metadata": {},
   "outputs": [],
   "source": [
    "#Training and test data split \n",
    "x_train,x_val,y_train,y_val= train_test_split(X,y,test_size=0.20,random_state=42)\n"
   ]
  },
  {
   "cell_type": "code",
   "execution_count": 12,
   "metadata": {},
   "outputs": [],
   "source": [
    "train_text = x_train['text'].values\n",
    "val_text = x_val['text'].values"
   ]
  },
  {
   "cell_type": "code",
   "execution_count": 13,
   "metadata": {},
   "outputs": [],
   "source": [
    "train_sentiment = x_train['sentiment'].values\n",
    "val_sentiment = x_val['sentiment'].values"
   ]
  },
  {
   "cell_type": "code",
   "execution_count": 14,
   "metadata": {},
   "outputs": [
    {
     "name": "stdout",
     "output_type": "stream",
     "text": [
      "21823 5456\n",
      "22943\n",
      "(21823, 40) (5456, 40)\n",
      "21823 5456\n",
      "{'oov': 1, 'neutral': 2, 'positive': 3, 'negative': 4}\n",
      "5\n",
      "(21823, 1) (5456, 1)\n"
     ]
    }
   ],
   "source": [
    "#FOR TEXT INPUT\n",
    "tokenizer_text = Tokenizer(lower=True,split=' ',oov_token='oov')         #Tokenizer\n",
    "tokenizer_text.fit_on_texts(train_text)\n",
    "train_text=tokenizer_text.texts_to_sequences(train_text)\n",
    "val_text=tokenizer_text.texts_to_sequences(val_text)\n",
    "print(len(train_text),len(val_text))\n",
    "vocab_size_text=len(tokenizer_text.word_index)+1\n",
    "print(vocab_size_text)\n",
    "\n",
    "max_length_text=40                                            #Let's take maximum length of text is 40 (40 words)\n",
    "train_text = pad_sequences(train_text,maxlen=max_length_text,padding='post')\n",
    "val_text = pad_sequences(val_text,maxlen=max_length_text,padding='post')\n",
    "print(train_text.shape,val_text.shape)\n",
    "\n",
    "\n",
    "#FOR SENTIMENT INPUT\n",
    "\n",
    "tokenizer_sentiment = Tokenizer(lower=True,split=' ',oov_token='oov')\n",
    "tokenizer_sentiment.fit_on_texts(train_sentiment)\n",
    "train_sentiment=tokenizer_sentiment.texts_to_sequences(train_sentiment)\n",
    "val_sentiment=tokenizer_sentiment.texts_to_sequences(val_sentiment)\n",
    "print(len(train_sentiment),len(val_sentiment))\n",
    "print(tokenizer_sentiment.word_index)\n",
    "vocab_size_sentiment=len(tokenizer_sentiment.word_index)+1\n",
    "print(vocab_size_sentiment)\n",
    "\n",
    "max_length_sentiment=1                                           # We have only 1 word for the sentiment(positive, negative or neutral)\n",
    "train_sentiment = pad_sequences(train_sentiment,maxlen=max_length_sentiment,padding='post')\n",
    "val_sentiment = pad_sequences(val_sentiment,maxlen=max_length_sentiment,padding='post')\n",
    "print(train_sentiment.shape,val_sentiment.shape)"
   ]
  },
  {
   "cell_type": "code",
   "execution_count": null,
   "metadata": {},
   "outputs": [],
   "source": []
  },
  {
   "cell_type": "code",
   "execution_count": 15,
   "metadata": {},
   "outputs": [
    {
     "name": "stdout",
     "output_type": "stream",
     "text": [
      "Loaded 400000 word vectors.\n"
     ]
    }
   ],
   "source": [
    "#Import glove vectors\n",
    "\n",
    "embeddings_index = dict()\n",
    "with open('glove.6B.300d.txt', encoding=\"utf8\") as f:\n",
    "    for line in f:\n",
    "        values = line.split()\n",
    "        word = values[0]\n",
    "        coefs = asarray(values[1:], dtype='float32')\n",
    "        embeddings_index[word] = coefs\n",
    "    \n",
    "print('Loaded %s word vectors.' % len(embeddings_index))"
   ]
  },
  {
   "cell_type": "code",
   "execution_count": 16,
   "metadata": {},
   "outputs": [
    {
     "name": "stdout",
     "output_type": "stream",
     "text": [
      "(22943, 300)\n"
     ]
    }
   ],
   "source": [
    "#Get embeddings for all words\n",
    "\n",
    "embedding_matrix = zeros((vocab_size_text, 300))\n",
    "for word, i in tokenizer_text.word_index.items():\n",
    "    embedding_vector = embeddings_index.get(word)\n",
    "    if embedding_vector is not None:\n",
    "        embedding_matrix[i] = embedding_vector\n",
    "\n",
    "print(embedding_matrix.shape)"
   ]
  },
  {
   "cell_type": "code",
   "execution_count": null,
   "metadata": {},
   "outputs": [],
   "source": []
  },
  {
   "cell_type": "code",
   "execution_count": 17,
   "metadata": {},
   "outputs": [],
   "source": [
    "input1=Input(shape=(max_length_text,),name='input_text')\n",
    "embed = Embedding(vocab_size_text,300,input_length=max_length_text,name='embedding',\\\n",
    "                      trainable=False,embeddings_initializer=tf.constant_initializer(embedding_matrix))(input1)\n",
    "gru=GRU(32,name='GRU',return_sequences=True)(embed)\n",
    "f1=Flatten()(gru)\n",
    "\n",
    "input2=Input(shape=(max_length_sentiment,),name='input_sentiment')\n",
    "embed2=Embedding(vocab_size_sentiment,10,input_length=max_length_sentiment,name='embedding_sentiment')(input2)\n",
    "f2=Flatten()(embed2)\n",
    "\n",
    "\n",
    "#Different layers of the model\n",
    "\n",
    "concat1=Concatenate(axis=1)([f1,f2])\n",
    "dense1=Dense(16,activation='relu',kernel_regularizer=l2(0.0001))(concat1)\n",
    "drop1 = Dropout(0.6)(dense1)\n",
    "ln= LayerNormalization()(drop1)\n",
    "dense2=Dense(8,activation='relu',kernel_regularizer=l2(0.0001))(ln)\n",
    "output=Dense(2,name='output')(dense2)"
   ]
  },
  {
   "cell_type": "code",
   "execution_count": 18,
   "metadata": {},
   "outputs": [],
   "source": [
    "model=Model(inputs=[input1,input2],outputs=[output])                  #Instantiate model"
   ]
  },
  {
   "cell_type": "code",
   "execution_count": 19,
   "metadata": {},
   "outputs": [
    {
     "name": "stdout",
     "output_type": "stream",
     "text": [
      "Model: \"model\"\n",
      "__________________________________________________________________________________________________\n",
      "Layer (type)                    Output Shape         Param #     Connected to                     \n",
      "==================================================================================================\n",
      "input_text (InputLayer)         [(None, 40)]         0                                            \n",
      "__________________________________________________________________________________________________\n",
      "embedding (Embedding)           (None, 40, 300)      6882900     input_text[0][0]                 \n",
      "__________________________________________________________________________________________________\n",
      "input_sentiment (InputLayer)    [(None, 1)]          0                                            \n",
      "__________________________________________________________________________________________________\n",
      "GRU (GRU)                       (None, 40, 32)       32064       embedding[0][0]                  \n",
      "__________________________________________________________________________________________________\n",
      "embedding_sentiment (Embedding) (None, 1, 10)        50          input_sentiment[0][0]            \n",
      "__________________________________________________________________________________________________\n",
      "flatten (Flatten)               (None, 1280)         0           GRU[0][0]                        \n",
      "__________________________________________________________________________________________________\n",
      "flatten_1 (Flatten)             (None, 10)           0           embedding_sentiment[0][0]        \n",
      "__________________________________________________________________________________________________\n",
      "concatenate (Concatenate)       (None, 1290)         0           flatten[0][0]                    \n",
      "                                                                 flatten_1[0][0]                  \n",
      "__________________________________________________________________________________________________\n",
      "dense (Dense)                   (None, 16)           20656       concatenate[0][0]                \n",
      "__________________________________________________________________________________________________\n",
      "dropout (Dropout)               (None, 16)           0           dense[0][0]                      \n",
      "__________________________________________________________________________________________________\n",
      "layer_normalization (LayerNorma (None, 16)           32          dropout[0][0]                    \n",
      "__________________________________________________________________________________________________\n",
      "dense_1 (Dense)                 (None, 8)            136         layer_normalization[0][0]        \n",
      "__________________________________________________________________________________________________\n",
      "output (Dense)                  (None, 2)            18          dense_1[0][0]                    \n",
      "==================================================================================================\n",
      "Total params: 6,935,856\n",
      "Trainable params: 52,956\n",
      "Non-trainable params: 6,882,900\n",
      "__________________________________________________________________________________________________\n"
     ]
    }
   ],
   "source": [
    "model.summary()                             #Model summary"
   ]
  },
  {
   "cell_type": "code",
   "execution_count": 20,
   "metadata": {},
   "outputs": [],
   "source": [
    "input_data = (train_text,train_sentiment)\n",
    "output_data = y_train.values\n",
    "\n",
    "val = (val_text,val_sentiment)\n",
    "output_val = y_val.values\n",
    "val_data = (val,output_val)"
   ]
  },
  {
   "cell_type": "code",
   "execution_count": 21,
   "metadata": {},
   "outputs": [],
   "source": [
    "model.compile(optimizer='adam',loss=\"mse\",metrics=[\"mae\"])                #Compilation of model"
   ]
  },
  {
   "cell_type": "code",
   "execution_count": 25,
   "metadata": {},
   "outputs": [
    {
     "name": "stdout",
     "output_type": "stream",
     "text": [
      "Epoch 1/100\n",
      "171/171 [==============================] - 6s 21ms/step - loss: 43.8555 - mae: 4.4391 - val_loss: 24.1119 - val_mae: 3.5770\n",
      "Epoch 2/100\n",
      "171/171 [==============================] - 3s 19ms/step - loss: 24.8402 - mae: 3.5573 - val_loss: 19.5305 - val_mae: 3.0589\n",
      "Epoch 3/100\n",
      "171/171 [==============================] - 3s 19ms/step - loss: 21.4571 - mae: 3.3254 - val_loss: 20.9225 - val_mae: 3.1209\n",
      "Epoch 4/100\n",
      "171/171 [==============================] - 3s 19ms/step - loss: 20.8529 - mae: 3.2677 - val_loss: 19.7503 - val_mae: 3.0444\n",
      "Epoch 5/100\n",
      "171/171 [==============================] - 3s 19ms/step - loss: 19.8459 - mae: 3.1557 - val_loss: 16.3768 - val_mae: 2.7946\n",
      "Epoch 6/100\n",
      "171/171 [==============================] - 3s 19ms/step - loss: 19.2734 - mae: 3.1359 - val_loss: 15.2234 - val_mae: 2.6209\n",
      "Epoch 7/100\n",
      "171/171 [==============================] - 3s 19ms/step - loss: 18.3544 - mae: 3.0478 - val_loss: 16.2133 - val_mae: 2.6446\n",
      "Epoch 8/100\n",
      "171/171 [==============================] - 3s 19ms/step - loss: 18.2701 - mae: 3.0299 - val_loss: 15.2052 - val_mae: 2.5842\n",
      "Epoch 9/100\n",
      "171/171 [==============================] - 3s 19ms/step - loss: 17.7419 - mae: 3.0084 - val_loss: 14.9970 - val_mae: 2.4968\n",
      "Epoch 10/100\n",
      "171/171 [==============================] - 3s 19ms/step - loss: 17.3834 - mae: 2.9698 - val_loss: 15.1349 - val_mae: 2.6314\n",
      "Epoch 11/100\n",
      "171/171 [==============================] - 3s 19ms/step - loss: 17.0850 - mae: 2.9435 - val_loss: 14.2553 - val_mae: 2.5425\n",
      "Epoch 12/100\n",
      "171/171 [==============================] - 3s 19ms/step - loss: 17.3295 - mae: 2.9583 - val_loss: 14.4557 - val_mae: 2.5161\n",
      "Epoch 13/100\n",
      "171/171 [==============================] - 3s 19ms/step - loss: 17.0078 - mae: 2.9113 - val_loss: 14.6202 - val_mae: 2.5027\n",
      "Epoch 14/100\n",
      "171/171 [==============================] - 3s 19ms/step - loss: 17.0130 - mae: 2.9233 - val_loss: 15.5061 - val_mae: 2.5553\n",
      "Epoch 15/100\n",
      "171/171 [==============================] - 3s 20ms/step - loss: 16.9272 - mae: 2.8948 - val_loss: 15.1484 - val_mae: 2.5916\n",
      "Epoch 16/100\n",
      "171/171 [==============================] - 3s 19ms/step - loss: 16.8323 - mae: 2.8858 - val_loss: 14.3523 - val_mae: 2.5126\n",
      "Epoch 17/100\n",
      "171/171 [==============================] - 3s 19ms/step - loss: 16.4428 - mae: 2.8559 - val_loss: 13.8235 - val_mae: 2.4020\n",
      "Epoch 18/100\n",
      "171/171 [==============================] - 3s 19ms/step - loss: 17.0461 - mae: 2.8950 - val_loss: 14.1338 - val_mae: 2.4190\n",
      "Epoch 19/100\n",
      "171/171 [==============================] - 3s 19ms/step - loss: 16.7715 - mae: 2.8805 - val_loss: 14.2276 - val_mae: 2.4267\n",
      "Epoch 20/100\n",
      "171/171 [==============================] - 3s 20ms/step - loss: 16.1558 - mae: 2.8261 - val_loss: 14.0210 - val_mae: 2.4296\n",
      "Epoch 21/100\n",
      "171/171 [==============================] - 3s 19ms/step - loss: 16.3322 - mae: 2.8381 - val_loss: 13.8685 - val_mae: 2.4004\n",
      "Epoch 22/100\n",
      "171/171 [==============================] - 3s 19ms/step - loss: 16.4359 - mae: 2.8344 - val_loss: 13.7084 - val_mae: 2.3676\n",
      "Epoch 23/100\n",
      "171/171 [==============================] - 3s 19ms/step - loss: 16.2356 - mae: 2.8354 - val_loss: 14.1906 - val_mae: 2.4331\n",
      "Epoch 24/100\n",
      "171/171 [==============================] - 3s 19ms/step - loss: 16.3204 - mae: 2.7936 - val_loss: 14.3634 - val_mae: 2.3543\n",
      "Epoch 25/100\n",
      "171/171 [==============================] - 3s 19ms/step - loss: 15.8448 - mae: 2.7701 - val_loss: 13.4170 - val_mae: 2.3381\n",
      "Epoch 26/100\n",
      "171/171 [==============================] - 3s 19ms/step - loss: 15.6172 - mae: 2.7525 - val_loss: 13.6729 - val_mae: 2.3672\n",
      "Epoch 27/100\n",
      "171/171 [==============================] - 3s 19ms/step - loss: 15.8500 - mae: 2.7688 - val_loss: 13.8551 - val_mae: 2.3677\n",
      "Epoch 28/100\n",
      "171/171 [==============================] - 3s 19ms/step - loss: 15.6767 - mae: 2.7513 - val_loss: 14.2389 - val_mae: 2.4249\n",
      "Epoch 29/100\n",
      "171/171 [==============================] - 3s 19ms/step - loss: 15.4659 - mae: 2.7240 - val_loss: 13.6439 - val_mae: 2.3299\n",
      "Epoch 30/100\n",
      "171/171 [==============================] - 3s 19ms/step - loss: 15.5299 - mae: 2.7306 - val_loss: 14.4037 - val_mae: 2.3824\n",
      "Epoch 31/100\n",
      "171/171 [==============================] - 3s 19ms/step - loss: 15.6754 - mae: 2.7488 - val_loss: 13.8698 - val_mae: 2.4018\n",
      "Epoch 32/100\n",
      "171/171 [==============================] - 3s 19ms/step - loss: 15.4883 - mae: 2.7204 - val_loss: 13.9697 - val_mae: 2.3731\n",
      "Epoch 33/100\n",
      "171/171 [==============================] - 3s 20ms/step - loss: 15.5830 - mae: 2.7376 - val_loss: 14.2911 - val_mae: 2.3920\n",
      "Epoch 34/100\n",
      "171/171 [==============================] - 3s 19ms/step - loss: 15.6473 - mae: 2.7392 - val_loss: 13.9804 - val_mae: 2.3230\n",
      "Epoch 35/100\n",
      "171/171 [==============================] - 3s 19ms/step - loss: 15.5833 - mae: 2.7471 - val_loss: 14.1548 - val_mae: 2.4134\n",
      "Epoch 36/100\n",
      "171/171 [==============================] - 3s 19ms/step - loss: 15.4929 - mae: 2.7301 - val_loss: 14.2968 - val_mae: 2.4001\n",
      "Epoch 37/100\n",
      "171/171 [==============================] - 3s 19ms/step - loss: 15.5117 - mae: 2.6987 - val_loss: 14.4372 - val_mae: 2.4089\n",
      "Epoch 38/100\n",
      "171/171 [==============================] - 3s 20ms/step - loss: 15.5227 - mae: 2.7030 - val_loss: 14.0901 - val_mae: 2.3348\n",
      "Epoch 39/100\n",
      "171/171 [==============================] - 3s 19ms/step - loss: 14.9595 - mae: 2.6490 - val_loss: 13.6276 - val_mae: 2.2754\n",
      "Epoch 40/100\n",
      "171/171 [==============================] - 3s 20ms/step - loss: 15.2133 - mae: 2.6877 - val_loss: 13.4638 - val_mae: 2.3024\n",
      "Epoch 41/100\n",
      "171/171 [==============================] - 3s 19ms/step - loss: 14.9824 - mae: 2.6728 - val_loss: 13.7857 - val_mae: 2.2658\n",
      "Epoch 42/100\n",
      "171/171 [==============================] - 3s 19ms/step - loss: 14.9930 - mae: 2.6694 - val_loss: 13.4620 - val_mae: 2.3000\n",
      "Epoch 43/100\n",
      "171/171 [==============================] - 3s 19ms/step - loss: 14.9771 - mae: 2.6714 - val_loss: 13.5069 - val_mae: 2.2792\n",
      "Epoch 44/100\n",
      "171/171 [==============================] - 3s 19ms/step - loss: 14.8497 - mae: 2.6600 - val_loss: 13.9103 - val_mae: 2.3220\n",
      "Epoch 45/100\n",
      "171/171 [==============================] - 3s 19ms/step - loss: 14.8594 - mae: 2.6537 - val_loss: 15.3239 - val_mae: 2.3729\n",
      "Epoch 46/100\n",
      "171/171 [==============================] - 3s 19ms/step - loss: 15.0418 - mae: 2.6491 - val_loss: 13.4869 - val_mae: 2.3354\n",
      "Epoch 47/100\n",
      "171/171 [==============================] - 3s 19ms/step - loss: 14.9500 - mae: 2.6672 - val_loss: 14.0205 - val_mae: 2.3558\n",
      "Epoch 48/100\n",
      "171/171 [==============================] - 3s 19ms/step - loss: 14.9815 - mae: 2.6940 - val_loss: 14.3146 - val_mae: 2.3682\n",
      "Epoch 49/100\n",
      "171/171 [==============================] - 3s 19ms/step - loss: 15.1259 - mae: 2.7269 - val_loss: 13.5408 - val_mae: 2.3499\n",
      "Epoch 50/100\n",
      "171/171 [==============================] - 3s 19ms/step - loss: 15.3958 - mae: 2.7309 - val_loss: 14.0379 - val_mae: 2.3895\n",
      "Epoch 51/100\n",
      "171/171 [==============================] - 3s 19ms/step - loss: 15.4507 - mae: 2.7552 - val_loss: 14.1984 - val_mae: 2.4243\n",
      "Epoch 52/100\n",
      "171/171 [==============================] - 3s 19ms/step - loss: 15.0053 - mae: 2.6846 - val_loss: 13.3084 - val_mae: 2.2551\n",
      "Epoch 53/100\n",
      "171/171 [==============================] - 3s 19ms/step - loss: 14.7943 - mae: 2.6572 - val_loss: 13.5842 - val_mae: 2.2591\n",
      "Epoch 54/100\n",
      "171/171 [==============================] - 3s 19ms/step - loss: 14.7823 - mae: 2.6287 - val_loss: 13.5176 - val_mae: 2.2764\n",
      "Epoch 55/100\n",
      "171/171 [==============================] - 3s 19ms/step - loss: 14.8512 - mae: 2.6436 - val_loss: 13.3946 - val_mae: 2.2831\n",
      "Epoch 56/100\n",
      "171/171 [==============================] - 3s 20ms/step - loss: 14.7900 - mae: 2.6413 - val_loss: 13.1270 - val_mae: 2.3102\n",
      "Epoch 57/100\n",
      "171/171 [==============================] - 3s 20ms/step - loss: 14.6120 - mae: 2.6279 - val_loss: 13.4881 - val_mae: 2.2743\n",
      "Epoch 58/100\n",
      "171/171 [==============================] - 3s 20ms/step - loss: 14.6920 - mae: 2.6189 - val_loss: 14.2930 - val_mae: 2.3088\n",
      "Epoch 59/100\n",
      "171/171 [==============================] - 3s 20ms/step - loss: 14.4213 - mae: 2.6127 - val_loss: 13.4053 - val_mae: 2.2214\n",
      "Epoch 60/100\n",
      "171/171 [==============================] - 3s 20ms/step - loss: 14.6459 - mae: 2.6221 - val_loss: 13.8754 - val_mae: 2.3179\n"
     ]
    },
    {
     "name": "stdout",
     "output_type": "stream",
     "text": [
      "Epoch 61/100\n",
      "171/171 [==============================] - 3s 19ms/step - loss: 14.7314 - mae: 2.6353 - val_loss: 13.4424 - val_mae: 2.3119\n",
      "Epoch 62/100\n",
      "171/171 [==============================] - 3s 19ms/step - loss: 14.7676 - mae: 2.6790 - val_loss: 13.4343 - val_mae: 2.3177\n",
      "Epoch 63/100\n",
      "171/171 [==============================] - 3s 19ms/step - loss: 14.4864 - mae: 2.6204 - val_loss: 13.2377 - val_mae: 2.2451\n",
      "Epoch 64/100\n",
      "171/171 [==============================] - 3s 19ms/step - loss: 14.4557 - mae: 2.6292 - val_loss: 13.2929 - val_mae: 2.2627\n",
      "Epoch 65/100\n",
      "171/171 [==============================] - 3s 19ms/step - loss: 14.6970 - mae: 2.6565 - val_loss: 13.5778 - val_mae: 2.2762\n",
      "Epoch 66/100\n",
      "171/171 [==============================] - 3s 19ms/step - loss: 14.4656 - mae: 2.6203 - val_loss: 13.4605 - val_mae: 2.2804\n",
      "Epoch 67/100\n",
      "171/171 [==============================] - 3s 19ms/step - loss: 14.4830 - mae: 2.5947 - val_loss: 15.4828 - val_mae: 2.3643\n",
      "Epoch 68/100\n",
      "171/171 [==============================] - 3s 19ms/step - loss: 14.5083 - mae: 2.6248 - val_loss: 13.8365 - val_mae: 2.2608\n",
      "Epoch 69/100\n",
      "171/171 [==============================] - 3s 19ms/step - loss: 14.6511 - mae: 2.6253 - val_loss: 13.4341 - val_mae: 2.2294\n",
      "Epoch 70/100\n",
      "171/171 [==============================] - 3s 19ms/step - loss: 14.6106 - mae: 2.6347 - val_loss: 13.6686 - val_mae: 2.2782\n",
      "Epoch 71/100\n",
      "171/171 [==============================] - 3s 20ms/step - loss: 14.2621 - mae: 2.6230 - val_loss: 13.6231 - val_mae: 2.2741\n",
      "Epoch 72/100\n",
      "171/171 [==============================] - 3s 19ms/step - loss: 14.4084 - mae: 2.6278 - val_loss: 12.8695 - val_mae: 2.2295\n",
      "Epoch 73/100\n",
      "171/171 [==============================] - 3s 19ms/step - loss: 14.7117 - mae: 2.6471 - val_loss: 14.0932 - val_mae: 2.2816\n",
      "Epoch 74/100\n",
      "171/171 [==============================] - 3s 20ms/step - loss: 14.3701 - mae: 2.6265 - val_loss: 13.2532 - val_mae: 2.2318\n",
      "Epoch 75/100\n",
      "171/171 [==============================] - 3s 19ms/step - loss: 14.4212 - mae: 2.6196 - val_loss: 13.4027 - val_mae: 2.2388\n",
      "Epoch 76/100\n",
      "171/171 [==============================] - 3s 20ms/step - loss: 14.1939 - mae: 2.5917 - val_loss: 13.8712 - val_mae: 2.3423\n",
      "Epoch 77/100\n",
      "171/171 [==============================] - 3s 19ms/step - loss: 14.1879 - mae: 2.5993 - val_loss: 13.9100 - val_mae: 2.2898\n",
      "Epoch 78/100\n",
      "171/171 [==============================] - 3s 19ms/step - loss: 14.1801 - mae: 2.5937 - val_loss: 14.1798 - val_mae: 2.2867\n",
      "Epoch 79/100\n",
      "171/171 [==============================] - 3s 19ms/step - loss: 14.2566 - mae: 2.6133 - val_loss: 14.6664 - val_mae: 2.3825\n",
      "Epoch 80/100\n",
      "171/171 [==============================] - 3s 19ms/step - loss: 14.5738 - mae: 2.6319 - val_loss: 14.7330 - val_mae: 2.3429\n",
      "Epoch 81/100\n",
      "171/171 [==============================] - 3s 19ms/step - loss: 14.3579 - mae: 2.5975 - val_loss: 14.5583 - val_mae: 2.3267\n",
      "Epoch 82/100\n",
      "171/171 [==============================] - 3s 19ms/step - loss: 14.2935 - mae: 2.6049 - val_loss: 14.2468 - val_mae: 2.3044\n",
      "Epoch 83/100\n",
      "171/171 [==============================] - 3s 19ms/step - loss: 14.1508 - mae: 2.5709 - val_loss: 14.0410 - val_mae: 2.2334\n",
      "Epoch 84/100\n",
      "171/171 [==============================] - 3s 19ms/step - loss: 14.0103 - mae: 2.5586 - val_loss: 13.5910 - val_mae: 2.2283\n",
      "Epoch 85/100\n",
      "171/171 [==============================] - 3s 20ms/step - loss: 14.3211 - mae: 2.6189 - val_loss: 13.1654 - val_mae: 2.2221\n",
      "Epoch 86/100\n",
      "171/171 [==============================] - 3s 19ms/step - loss: 14.1584 - mae: 2.5822 - val_loss: 13.5092 - val_mae: 2.2630\n",
      "Epoch 87/100\n",
      "171/171 [==============================] - 3s 19ms/step - loss: 13.8191 - mae: 2.5643 - val_loss: 14.2111 - val_mae: 2.2565\n",
      "Epoch 88/100\n",
      "171/171 [==============================] - 3s 19ms/step - loss: 14.0976 - mae: 2.6006 - val_loss: 12.9853 - val_mae: 2.2609\n",
      "Epoch 89/100\n",
      "171/171 [==============================] - 3s 19ms/step - loss: 14.1190 - mae: 2.5899 - val_loss: 13.7508 - val_mae: 2.2564\n",
      "Epoch 90/100\n",
      "171/171 [==============================] - 3s 19ms/step - loss: 13.8334 - mae: 2.5493 - val_loss: 13.4423 - val_mae: 2.2288\n",
      "Epoch 91/100\n",
      "171/171 [==============================] - 3s 19ms/step - loss: 14.0955 - mae: 2.5610 - val_loss: 14.2613 - val_mae: 2.3278\n",
      "Epoch 92/100\n",
      "171/171 [==============================] - 3s 19ms/step - loss: 14.1987 - mae: 2.5680 - val_loss: 14.8720 - val_mae: 2.3407\n",
      "Epoch 93/100\n",
      "171/171 [==============================] - 3s 20ms/step - loss: 14.2280 - mae: 2.5740 - val_loss: 13.7632 - val_mae: 2.3049\n",
      "Epoch 94/100\n",
      "171/171 [==============================] - 3s 20ms/step - loss: 14.1675 - mae: 2.5873 - val_loss: 14.4575 - val_mae: 2.2845\n",
      "Epoch 95/100\n",
      "171/171 [==============================] - 3s 19ms/step - loss: 13.9040 - mae: 2.5459 - val_loss: 14.0010 - val_mae: 2.2753\n",
      "Epoch 96/100\n",
      "171/171 [==============================] - 3s 19ms/step - loss: 14.1185 - mae: 2.5513 - val_loss: 14.3082 - val_mae: 2.2817\n",
      "Epoch 97/100\n",
      "171/171 [==============================] - 3s 19ms/step - loss: 13.6414 - mae: 2.5255 - val_loss: 13.7066 - val_mae: 2.2498\n",
      "Epoch 98/100\n",
      "171/171 [==============================] - 3s 19ms/step - loss: 13.5599 - mae: 2.5162 - val_loss: 13.6898 - val_mae: 2.2559\n",
      "Epoch 99/100\n",
      "171/171 [==============================] - 3s 19ms/step - loss: 13.7369 - mae: 2.5404 - val_loss: 13.4888 - val_mae: 2.2684\n",
      "Epoch 100/100\n",
      "171/171 [==============================] - 3s 19ms/step - loss: 14.0617 - mae: 2.5481 - val_loss: 14.1775 - val_mae: 2.3061\n"
     ]
    }
   ],
   "source": [
    "#Fit model\n",
    "\n",
    "model.fit(input_data,output_data,epochs=100,batch_size=128,validation_data=val_data,validation_batch_size=64)"
   ]
  },
  {
   "cell_type": "code",
   "execution_count": 26,
   "metadata": {},
   "outputs": [
    {
     "name": "stdout",
     "output_type": "stream",
     "text": [
      "tf.Tensor(10.826799, shape=(), dtype=float32)\n"
     ]
    }
   ],
   "source": [
    "#Calculate mean squared value\n",
    "\n",
    "pred_values = model.predict(input_data)\n",
    "true_values = output_data\n",
    "\n",
    "mse = tf.keras.losses.MeanSquaredError()\n",
    "print(mse(true_values,pred_values))"
   ]
  },
  {
   "cell_type": "code",
   "execution_count": 28,
   "metadata": {},
   "outputs": [
    {
     "name": "stdout",
     "output_type": "stream",
     "text": [
      "[[2.68143702 8.49145397]\n",
      " [2.68143702 8.49145397]\n",
      " [2.68143702 8.49145397]\n",
      " ...\n",
      " [2.68143702 8.49145397]\n",
      " [2.68143702 8.49145397]\n",
      " [2.68143702 8.49145397]]\n",
      "(21823, 2)\n"
     ]
    }
   ],
   "source": [
    "pred = np.tile(pred,(true_values.shape[0],1))\n",
    "print(pred)\n",
    "print(pred.shape)"
   ]
  },
  {
   "cell_type": "code",
   "execution_count": 29,
   "metadata": {},
   "outputs": [
    {
     "name": "stdout",
     "output_type": "stream",
     "text": [
      "tf.Tensor(32.909339904785156, shape=(), dtype=float64)\n"
     ]
    }
   ],
   "source": [
    "print(mse(true_values,pred))"
   ]
  },
  {
   "cell_type": "code",
   "execution_count": 30,
   "metadata": {},
   "outputs": [
    {
     "name": "stdout",
     "output_type": "stream",
     "text": [
      "0    16346\n",
      "Name: start_indices, dtype: int64\n",
      "3    2193\n",
      "Name: end_indices, dtype: int64\n",
      "[[0 3]\n",
      " [0 3]\n",
      " [0 3]\n",
      " ...\n",
      " [0 3]\n",
      " [0 3]\n",
      " [0 3]]\n",
      "(21823, 2)\n"
     ]
    }
   ],
   "source": [
    "print(train_df['start_indices'].value_counts()[:1])\n",
    "print(train_df['end_indices'].value_counts()[:1])\n",
    "\n",
    "pred = [0,3]\n",
    "pred = np.tile(pred,(true_values.shape[0],1))\n",
    "print(pred)\n",
    "print(pred.shape)"
   ]
  },
  {
   "cell_type": "code",
   "execution_count": 31,
   "metadata": {},
   "outputs": [
    {
     "data": {
      "text/html": [
       "<div>\n",
       "<style scoped>\n",
       "    .dataframe tbody tr th:only-of-type {\n",
       "        vertical-align: middle;\n",
       "    }\n",
       "\n",
       "    .dataframe tbody tr th {\n",
       "        vertical-align: top;\n",
       "    }\n",
       "\n",
       "    .dataframe thead th {\n",
       "        text-align: right;\n",
       "    }\n",
       "</style>\n",
       "<table border=\"1\" class=\"dataframe\">\n",
       "  <thead>\n",
       "    <tr style=\"text-align: right;\">\n",
       "      <th></th>\n",
       "      <th>textID</th>\n",
       "      <th>text</th>\n",
       "      <th>sentiment</th>\n",
       "    </tr>\n",
       "  </thead>\n",
       "  <tbody>\n",
       "    <tr>\n",
       "      <th>0</th>\n",
       "      <td>f87dea47db</td>\n",
       "      <td>Last session of the day  http://twitpic.com/67ezh</td>\n",
       "      <td>neutral</td>\n",
       "    </tr>\n",
       "    <tr>\n",
       "      <th>1</th>\n",
       "      <td>96d74cb729</td>\n",
       "      <td>Shanghai is also really exciting (precisely -...</td>\n",
       "      <td>positive</td>\n",
       "    </tr>\n",
       "    <tr>\n",
       "      <th>2</th>\n",
       "      <td>eee518ae67</td>\n",
       "      <td>Recession hit Veronique Branquinho, she has to...</td>\n",
       "      <td>negative</td>\n",
       "    </tr>\n",
       "    <tr>\n",
       "      <th>3</th>\n",
       "      <td>01082688c6</td>\n",
       "      <td>happy bday!</td>\n",
       "      <td>positive</td>\n",
       "    </tr>\n",
       "    <tr>\n",
       "      <th>4</th>\n",
       "      <td>33987a8ee5</td>\n",
       "      <td>http://twitpic.com/4w75p - I like it!!</td>\n",
       "      <td>positive</td>\n",
       "    </tr>\n",
       "    <tr>\n",
       "      <th>...</th>\n",
       "      <td>...</td>\n",
       "      <td>...</td>\n",
       "      <td>...</td>\n",
       "    </tr>\n",
       "    <tr>\n",
       "      <th>3529</th>\n",
       "      <td>e5f0e6ef4b</td>\n",
       "      <td>its at 3 am, im very tired but i can`t sleep  ...</td>\n",
       "      <td>negative</td>\n",
       "    </tr>\n",
       "    <tr>\n",
       "      <th>3530</th>\n",
       "      <td>416863ce47</td>\n",
       "      <td>All alone in this old house again.  Thanks for...</td>\n",
       "      <td>positive</td>\n",
       "    </tr>\n",
       "    <tr>\n",
       "      <th>3531</th>\n",
       "      <td>6332da480c</td>\n",
       "      <td>I know what you mean. My little dog is sinkin...</td>\n",
       "      <td>negative</td>\n",
       "    </tr>\n",
       "    <tr>\n",
       "      <th>3532</th>\n",
       "      <td>df1baec676</td>\n",
       "      <td>_sutra what is your next youtube video gonna b...</td>\n",
       "      <td>positive</td>\n",
       "    </tr>\n",
       "    <tr>\n",
       "      <th>3533</th>\n",
       "      <td>469e15c5a8</td>\n",
       "      <td>http://twitpic.com/4woj2 - omgssh  ang cute n...</td>\n",
       "      <td>positive</td>\n",
       "    </tr>\n",
       "  </tbody>\n",
       "</table>\n",
       "<p>3534 rows × 3 columns</p>\n",
       "</div>"
      ],
      "text/plain": [
       "          textID                                               text sentiment\n",
       "0     f87dea47db  Last session of the day  http://twitpic.com/67ezh   neutral\n",
       "1     96d74cb729   Shanghai is also really exciting (precisely -...  positive\n",
       "2     eee518ae67  Recession hit Veronique Branquinho, she has to...  negative\n",
       "3     01082688c6                                        happy bday!  positive\n",
       "4     33987a8ee5             http://twitpic.com/4w75p - I like it!!  positive\n",
       "...          ...                                                ...       ...\n",
       "3529  e5f0e6ef4b  its at 3 am, im very tired but i can`t sleep  ...  negative\n",
       "3530  416863ce47  All alone in this old house again.  Thanks for...  positive\n",
       "3531  6332da480c   I know what you mean. My little dog is sinkin...  negative\n",
       "3532  df1baec676  _sutra what is your next youtube video gonna b...  positive\n",
       "3533  469e15c5a8   http://twitpic.com/4woj2 - omgssh  ang cute n...  positive\n",
       "\n",
       "[3534 rows x 3 columns]"
      ]
     },
     "execution_count": 31,
     "metadata": {},
     "output_type": "execute_result"
    }
   ],
   "source": [
    "test_df"
   ]
  },
  {
   "cell_type": "code",
   "execution_count": 32,
   "metadata": {},
   "outputs": [],
   "source": [
    "#To clean test data\n",
    "\n",
    "def clean_text(text):\n",
    "    text = text.lower()\n",
    "    text = re.sub('\\[.*?\\]', '', text)\n",
    "    text = re.sub('https?://\\S+|www\\.\\S+', '', text)\n",
    "    text = re.sub('<.*?>+', '', text)\n",
    "    text = re.sub('[%s]' % re.escape(string.punctuation), '', text)\n",
    "    text = re.sub('\\n', '', text)\n",
    "    text = re.sub('\\w*\\d\\w*', '', text)\n",
    "    text = re.sub(\"\\*+\", \"<CURSE>\", text)\n",
    "    return text"
   ]
  },
  {
   "cell_type": "code",
   "execution_count": 33,
   "metadata": {},
   "outputs": [],
   "source": [
    "#Clean test data\n",
    "\n",
    "test_df['text'] = test_df['text'].apply(lambda x: clean_text(x))"
   ]
  },
  {
   "cell_type": "code",
   "execution_count": 34,
   "metadata": {},
   "outputs": [
    {
     "data": {
      "text/html": [
       "<div>\n",
       "<style scoped>\n",
       "    .dataframe tbody tr th:only-of-type {\n",
       "        vertical-align: middle;\n",
       "    }\n",
       "\n",
       "    .dataframe tbody tr th {\n",
       "        vertical-align: top;\n",
       "    }\n",
       "\n",
       "    .dataframe thead th {\n",
       "        text-align: right;\n",
       "    }\n",
       "</style>\n",
       "<table border=\"1\" class=\"dataframe\">\n",
       "  <thead>\n",
       "    <tr style=\"text-align: right;\">\n",
       "      <th></th>\n",
       "      <th>textID</th>\n",
       "      <th>text</th>\n",
       "      <th>sentiment</th>\n",
       "    </tr>\n",
       "  </thead>\n",
       "  <tbody>\n",
       "    <tr>\n",
       "      <th>0</th>\n",
       "      <td>f87dea47db</td>\n",
       "      <td>last session of the day</td>\n",
       "      <td>neutral</td>\n",
       "    </tr>\n",
       "    <tr>\n",
       "      <th>1</th>\n",
       "      <td>96d74cb729</td>\n",
       "      <td>shanghai is also really exciting precisely  s...</td>\n",
       "      <td>positive</td>\n",
       "    </tr>\n",
       "    <tr>\n",
       "      <th>2</th>\n",
       "      <td>eee518ae67</td>\n",
       "      <td>recession hit veronique branquinho she has to ...</td>\n",
       "      <td>negative</td>\n",
       "    </tr>\n",
       "    <tr>\n",
       "      <th>3</th>\n",
       "      <td>01082688c6</td>\n",
       "      <td>happy bday</td>\n",
       "      <td>positive</td>\n",
       "    </tr>\n",
       "    <tr>\n",
       "      <th>4</th>\n",
       "      <td>33987a8ee5</td>\n",
       "      <td>i like it</td>\n",
       "      <td>positive</td>\n",
       "    </tr>\n",
       "    <tr>\n",
       "      <th>...</th>\n",
       "      <td>...</td>\n",
       "      <td>...</td>\n",
       "      <td>...</td>\n",
       "    </tr>\n",
       "    <tr>\n",
       "      <th>3529</th>\n",
       "      <td>e5f0e6ef4b</td>\n",
       "      <td>its at  am im very tired but i cant sleep  but...</td>\n",
       "      <td>negative</td>\n",
       "    </tr>\n",
       "    <tr>\n",
       "      <th>3530</th>\n",
       "      <td>416863ce47</td>\n",
       "      <td>all alone in this old house again  thanks for ...</td>\n",
       "      <td>positive</td>\n",
       "    </tr>\n",
       "    <tr>\n",
       "      <th>3531</th>\n",
       "      <td>6332da480c</td>\n",
       "      <td>i know what you mean my little dog is sinking...</td>\n",
       "      <td>negative</td>\n",
       "    </tr>\n",
       "    <tr>\n",
       "      <th>3532</th>\n",
       "      <td>df1baec676</td>\n",
       "      <td>sutra what is your next youtube video gonna be...</td>\n",
       "      <td>positive</td>\n",
       "    </tr>\n",
       "    <tr>\n",
       "      <th>3533</th>\n",
       "      <td>469e15c5a8</td>\n",
       "      <td>omgssh  ang cute ng bby</td>\n",
       "      <td>positive</td>\n",
       "    </tr>\n",
       "  </tbody>\n",
       "</table>\n",
       "<p>3534 rows × 3 columns</p>\n",
       "</div>"
      ],
      "text/plain": [
       "          textID                                               text sentiment\n",
       "0     f87dea47db                          last session of the day     neutral\n",
       "1     96d74cb729   shanghai is also really exciting precisely  s...  positive\n",
       "2     eee518ae67  recession hit veronique branquinho she has to ...  negative\n",
       "3     01082688c6                                         happy bday  positive\n",
       "4     33987a8ee5                                          i like it  positive\n",
       "...          ...                                                ...       ...\n",
       "3529  e5f0e6ef4b  its at  am im very tired but i cant sleep  but...  negative\n",
       "3530  416863ce47  all alone in this old house again  thanks for ...  positive\n",
       "3531  6332da480c   i know what you mean my little dog is sinking...  negative\n",
       "3532  df1baec676  sutra what is your next youtube video gonna be...  positive\n",
       "3533  469e15c5a8                            omgssh  ang cute ng bby  positive\n",
       "\n",
       "[3534 rows x 3 columns]"
      ]
     },
     "execution_count": 34,
     "metadata": {},
     "output_type": "execute_result"
    }
   ],
   "source": [
    "test_df"
   ]
  },
  {
   "cell_type": "code",
   "execution_count": null,
   "metadata": {},
   "outputs": [],
   "source": []
  },
  {
   "cell_type": "code",
   "execution_count": 35,
   "metadata": {},
   "outputs": [
    {
     "name": "stdout",
     "output_type": "stream",
     "text": [
      "(3534, 40)\n",
      "(3534, 1)\n"
     ]
    }
   ],
   "source": [
    "#Tokenize and padding for both inputs of test data\n",
    "\n",
    "test_text = test_df['text'].values\n",
    "test_text=tokenizer_text.texts_to_sequences(test_text)                           \n",
    "test_text = pad_sequences(test_text,maxlen=max_length_text,padding='post')       \n",
    "print(test_text.shape)\n",
    "\n",
    "test_sentiment = test_df['sentiment'].values\n",
    "test_sentiment=tokenizer_sentiment.texts_to_sequences(test_sentiment)\n",
    "test_sentiment = pad_sequences(test_sentiment,maxlen=max_length_sentiment,padding='post')\n",
    "print(test_sentiment.shape)\n"
   ]
  },
  {
   "cell_type": "code",
   "execution_count": 36,
   "metadata": {},
   "outputs": [
    {
     "data": {
      "text/plain": [
       "array([[ 0.,  2.],\n",
       "       [ 1.,  3.],\n",
       "       [ 9., 13.],\n",
       "       ...,\n",
       "       [ 9., 13.],\n",
       "       [10., 14.],\n",
       "       [ 0.,  2.]], dtype=float32)"
      ]
     },
     "execution_count": 36,
     "metadata": {},
     "output_type": "execute_result"
    }
   ],
   "source": [
    "#Predict start index and end index for sentiment extraction.\n",
    "\n",
    "results  = model.predict([test_text,test_sentiment])\n",
    "results = np.round(results)\n",
    "results"
   ]
  },
  {
   "cell_type": "code",
   "execution_count": 37,
   "metadata": {},
   "outputs": [],
   "source": [
    "test_df['start'],test_df['end'] = (abs(results[:,0])),(abs(results[:,1]))"
   ]
  },
  {
   "cell_type": "code",
   "execution_count": 38,
   "metadata": {},
   "outputs": [],
   "source": [
    "#To find text between start index and end index\n",
    "\n",
    "def find_sel_text(x):\n",
    "    text = x[0]\n",
    "    start = x[1]\n",
    "    end = x[2]\n",
    "    \n",
    "    sel_text = text.split()[start:end+1]\n",
    "    sel_text = \" \".join(sel_text)\n",
    "    return sel_text"
   ]
  },
  {
   "cell_type": "code",
   "execution_count": 39,
   "metadata": {},
   "outputs": [],
   "source": [
    "test_df['start'] = test_df['start'].astype('int')\n",
    "test_df['end'] = test_df['end'].astype('int')"
   ]
  },
  {
   "cell_type": "code",
   "execution_count": 40,
   "metadata": {},
   "outputs": [
    {
     "data": {
      "text/html": [
       "<div>\n",
       "<style scoped>\n",
       "    .dataframe tbody tr th:only-of-type {\n",
       "        vertical-align: middle;\n",
       "    }\n",
       "\n",
       "    .dataframe tbody tr th {\n",
       "        vertical-align: top;\n",
       "    }\n",
       "\n",
       "    .dataframe thead th {\n",
       "        text-align: right;\n",
       "    }\n",
       "</style>\n",
       "<table border=\"1\" class=\"dataframe\">\n",
       "  <thead>\n",
       "    <tr style=\"text-align: right;\">\n",
       "      <th></th>\n",
       "      <th>textID</th>\n",
       "      <th>text</th>\n",
       "      <th>sentiment</th>\n",
       "      <th>start</th>\n",
       "      <th>end</th>\n",
       "    </tr>\n",
       "  </thead>\n",
       "  <tbody>\n",
       "    <tr>\n",
       "      <th>0</th>\n",
       "      <td>f87dea47db</td>\n",
       "      <td>last session of the day</td>\n",
       "      <td>neutral</td>\n",
       "      <td>0</td>\n",
       "      <td>2</td>\n",
       "    </tr>\n",
       "    <tr>\n",
       "      <th>1</th>\n",
       "      <td>96d74cb729</td>\n",
       "      <td>shanghai is also really exciting precisely  s...</td>\n",
       "      <td>positive</td>\n",
       "      <td>1</td>\n",
       "      <td>3</td>\n",
       "    </tr>\n",
       "    <tr>\n",
       "      <th>2</th>\n",
       "      <td>eee518ae67</td>\n",
       "      <td>recession hit veronique branquinho she has to ...</td>\n",
       "      <td>negative</td>\n",
       "      <td>9</td>\n",
       "      <td>13</td>\n",
       "    </tr>\n",
       "    <tr>\n",
       "      <th>3</th>\n",
       "      <td>01082688c6</td>\n",
       "      <td>happy bday</td>\n",
       "      <td>positive</td>\n",
       "      <td>0</td>\n",
       "      <td>2</td>\n",
       "    </tr>\n",
       "    <tr>\n",
       "      <th>4</th>\n",
       "      <td>33987a8ee5</td>\n",
       "      <td>i like it</td>\n",
       "      <td>positive</td>\n",
       "      <td>0</td>\n",
       "      <td>3</td>\n",
       "    </tr>\n",
       "    <tr>\n",
       "      <th>...</th>\n",
       "      <td>...</td>\n",
       "      <td>...</td>\n",
       "      <td>...</td>\n",
       "      <td>...</td>\n",
       "      <td>...</td>\n",
       "    </tr>\n",
       "    <tr>\n",
       "      <th>3529</th>\n",
       "      <td>e5f0e6ef4b</td>\n",
       "      <td>its at  am im very tired but i cant sleep  but...</td>\n",
       "      <td>negative</td>\n",
       "      <td>1</td>\n",
       "      <td>4</td>\n",
       "    </tr>\n",
       "    <tr>\n",
       "      <th>3530</th>\n",
       "      <td>416863ce47</td>\n",
       "      <td>all alone in this old house again  thanks for ...</td>\n",
       "      <td>positive</td>\n",
       "      <td>13</td>\n",
       "      <td>17</td>\n",
       "    </tr>\n",
       "    <tr>\n",
       "      <th>3531</th>\n",
       "      <td>6332da480c</td>\n",
       "      <td>i know what you mean my little dog is sinking...</td>\n",
       "      <td>negative</td>\n",
       "      <td>9</td>\n",
       "      <td>13</td>\n",
       "    </tr>\n",
       "    <tr>\n",
       "      <th>3532</th>\n",
       "      <td>df1baec676</td>\n",
       "      <td>sutra what is your next youtube video gonna be...</td>\n",
       "      <td>positive</td>\n",
       "      <td>10</td>\n",
       "      <td>14</td>\n",
       "    </tr>\n",
       "    <tr>\n",
       "      <th>3533</th>\n",
       "      <td>469e15c5a8</td>\n",
       "      <td>omgssh  ang cute ng bby</td>\n",
       "      <td>positive</td>\n",
       "      <td>0</td>\n",
       "      <td>2</td>\n",
       "    </tr>\n",
       "  </tbody>\n",
       "</table>\n",
       "<p>3534 rows × 5 columns</p>\n",
       "</div>"
      ],
      "text/plain": [
       "          textID                                               text sentiment  \\\n",
       "0     f87dea47db                          last session of the day     neutral   \n",
       "1     96d74cb729   shanghai is also really exciting precisely  s...  positive   \n",
       "2     eee518ae67  recession hit veronique branquinho she has to ...  negative   \n",
       "3     01082688c6                                         happy bday  positive   \n",
       "4     33987a8ee5                                          i like it  positive   \n",
       "...          ...                                                ...       ...   \n",
       "3529  e5f0e6ef4b  its at  am im very tired but i cant sleep  but...  negative   \n",
       "3530  416863ce47  all alone in this old house again  thanks for ...  positive   \n",
       "3531  6332da480c   i know what you mean my little dog is sinking...  negative   \n",
       "3532  df1baec676  sutra what is your next youtube video gonna be...  positive   \n",
       "3533  469e15c5a8                            omgssh  ang cute ng bby  positive   \n",
       "\n",
       "      start  end  \n",
       "0         0    2  \n",
       "1         1    3  \n",
       "2         9   13  \n",
       "3         0    2  \n",
       "4         0    3  \n",
       "...     ...  ...  \n",
       "3529      1    4  \n",
       "3530     13   17  \n",
       "3531      9   13  \n",
       "3532     10   14  \n",
       "3533      0    2  \n",
       "\n",
       "[3534 rows x 5 columns]"
      ]
     },
     "execution_count": 40,
     "metadata": {},
     "output_type": "execute_result"
    }
   ],
   "source": [
    "test_df"
   ]
  },
  {
   "cell_type": "code",
   "execution_count": 41,
   "metadata": {},
   "outputs": [],
   "source": [
    "test_df['selected_text'] = test_df[['text','start','end']].apply(lambda x:find_sel_text(x),axis=1)"
   ]
  },
  {
   "cell_type": "code",
   "execution_count": 42,
   "metadata": {},
   "outputs": [
    {
     "data": {
      "text/html": [
       "<div>\n",
       "<style scoped>\n",
       "    .dataframe tbody tr th:only-of-type {\n",
       "        vertical-align: middle;\n",
       "    }\n",
       "\n",
       "    .dataframe tbody tr th {\n",
       "        vertical-align: top;\n",
       "    }\n",
       "\n",
       "    .dataframe thead th {\n",
       "        text-align: right;\n",
       "    }\n",
       "</style>\n",
       "<table border=\"1\" class=\"dataframe\">\n",
       "  <thead>\n",
       "    <tr style=\"text-align: right;\">\n",
       "      <th></th>\n",
       "      <th>textID</th>\n",
       "      <th>text</th>\n",
       "      <th>sentiment</th>\n",
       "      <th>start</th>\n",
       "      <th>end</th>\n",
       "      <th>selected_text</th>\n",
       "    </tr>\n",
       "  </thead>\n",
       "  <tbody>\n",
       "    <tr>\n",
       "      <th>0</th>\n",
       "      <td>f87dea47db</td>\n",
       "      <td>last session of the day</td>\n",
       "      <td>neutral</td>\n",
       "      <td>0</td>\n",
       "      <td>2</td>\n",
       "      <td>last session of</td>\n",
       "    </tr>\n",
       "    <tr>\n",
       "      <th>1</th>\n",
       "      <td>96d74cb729</td>\n",
       "      <td>shanghai is also really exciting precisely  s...</td>\n",
       "      <td>positive</td>\n",
       "      <td>1</td>\n",
       "      <td>3</td>\n",
       "      <td>is also really</td>\n",
       "    </tr>\n",
       "    <tr>\n",
       "      <th>2</th>\n",
       "      <td>eee518ae67</td>\n",
       "      <td>recession hit veronique branquinho she has to ...</td>\n",
       "      <td>negative</td>\n",
       "      <td>9</td>\n",
       "      <td>13</td>\n",
       "      <td>company such a shame</td>\n",
       "    </tr>\n",
       "    <tr>\n",
       "      <th>3</th>\n",
       "      <td>01082688c6</td>\n",
       "      <td>happy bday</td>\n",
       "      <td>positive</td>\n",
       "      <td>0</td>\n",
       "      <td>2</td>\n",
       "      <td>happy bday</td>\n",
       "    </tr>\n",
       "    <tr>\n",
       "      <th>4</th>\n",
       "      <td>33987a8ee5</td>\n",
       "      <td>i like it</td>\n",
       "      <td>positive</td>\n",
       "      <td>0</td>\n",
       "      <td>3</td>\n",
       "      <td>i like it</td>\n",
       "    </tr>\n",
       "    <tr>\n",
       "      <th>...</th>\n",
       "      <td>...</td>\n",
       "      <td>...</td>\n",
       "      <td>...</td>\n",
       "      <td>...</td>\n",
       "      <td>...</td>\n",
       "      <td>...</td>\n",
       "    </tr>\n",
       "    <tr>\n",
       "      <th>3529</th>\n",
       "      <td>e5f0e6ef4b</td>\n",
       "      <td>its at  am im very tired but i cant sleep  but...</td>\n",
       "      <td>negative</td>\n",
       "      <td>1</td>\n",
       "      <td>4</td>\n",
       "      <td>at am im very</td>\n",
       "    </tr>\n",
       "    <tr>\n",
       "      <th>3530</th>\n",
       "      <td>416863ce47</td>\n",
       "      <td>all alone in this old house again  thanks for ...</td>\n",
       "      <td>positive</td>\n",
       "      <td>13</td>\n",
       "      <td>17</td>\n",
       "      <td>me alive and kicking whoever</td>\n",
       "    </tr>\n",
       "    <tr>\n",
       "      <th>3531</th>\n",
       "      <td>6332da480c</td>\n",
       "      <td>i know what you mean my little dog is sinking...</td>\n",
       "      <td>negative</td>\n",
       "      <td>9</td>\n",
       "      <td>13</td>\n",
       "      <td>sinking into depression he wants</td>\n",
       "    </tr>\n",
       "    <tr>\n",
       "      <th>3532</th>\n",
       "      <td>df1baec676</td>\n",
       "      <td>sutra what is your next youtube video gonna be...</td>\n",
       "      <td>positive</td>\n",
       "      <td>10</td>\n",
       "      <td>14</td>\n",
       "      <td>i love your videos</td>\n",
       "    </tr>\n",
       "    <tr>\n",
       "      <th>3533</th>\n",
       "      <td>469e15c5a8</td>\n",
       "      <td>omgssh  ang cute ng bby</td>\n",
       "      <td>positive</td>\n",
       "      <td>0</td>\n",
       "      <td>2</td>\n",
       "      <td>omgssh ang cute</td>\n",
       "    </tr>\n",
       "  </tbody>\n",
       "</table>\n",
       "<p>3534 rows × 6 columns</p>\n",
       "</div>"
      ],
      "text/plain": [
       "          textID                                               text sentiment  \\\n",
       "0     f87dea47db                          last session of the day     neutral   \n",
       "1     96d74cb729   shanghai is also really exciting precisely  s...  positive   \n",
       "2     eee518ae67  recession hit veronique branquinho she has to ...  negative   \n",
       "3     01082688c6                                         happy bday  positive   \n",
       "4     33987a8ee5                                          i like it  positive   \n",
       "...          ...                                                ...       ...   \n",
       "3529  e5f0e6ef4b  its at  am im very tired but i cant sleep  but...  negative   \n",
       "3530  416863ce47  all alone in this old house again  thanks for ...  positive   \n",
       "3531  6332da480c   i know what you mean my little dog is sinking...  negative   \n",
       "3532  df1baec676  sutra what is your next youtube video gonna be...  positive   \n",
       "3533  469e15c5a8                            omgssh  ang cute ng bby  positive   \n",
       "\n",
       "      start  end                     selected_text  \n",
       "0         0    2                   last session of  \n",
       "1         1    3                    is also really  \n",
       "2         9   13              company such a shame  \n",
       "3         0    2                        happy bday  \n",
       "4         0    3                         i like it  \n",
       "...     ...  ...                               ...  \n",
       "3529      1    4                     at am im very  \n",
       "3530     13   17      me alive and kicking whoever  \n",
       "3531      9   13  sinking into depression he wants  \n",
       "3532     10   14                i love your videos  \n",
       "3533      0    2                   omgssh ang cute  \n",
       "\n",
       "[3534 rows x 6 columns]"
      ]
     },
     "execution_count": 42,
     "metadata": {},
     "output_type": "execute_result"
    }
   ],
   "source": [
    "test_df"
   ]
  },
  {
   "cell_type": "code",
   "execution_count": null,
   "metadata": {},
   "outputs": [],
   "source": []
  },
  {
   "cell_type": "code",
   "execution_count": null,
   "metadata": {},
   "outputs": [],
   "source": []
  },
  {
   "cell_type": "code",
   "execution_count": null,
   "metadata": {},
   "outputs": [],
   "source": [
    "##NOW, TO CHECK THE MODEL WITH ANY RANDOM SENTENCE."
   ]
  },
  {
   "cell_type": "code",
   "execution_count": 43,
   "metadata": {},
   "outputs": [],
   "source": [
    "def get_sent(text, sentiment):\n",
    "    test_df = pd.DataFrame(list(zip([text],[sentiment])), columns=['text','sentiment'])\n",
    "    test_text = test_df['text'].values\n",
    "    test_text=tokenizer_text.texts_to_sequences(test_text)\n",
    "    test_text = pad_sequences(test_text,maxlen=max_length_text,padding='post')\n",
    "\n",
    "    test_sentiment = test_df['sentiment'].values\n",
    "    test_sentiment=tokenizer_sentiment.texts_to_sequences(test_sentiment)\n",
    "    test_sentiment = pad_sequences(test_sentiment,maxlen=max_length_sentiment,padding='post')\n",
    "\n",
    "\n",
    "    results  = model.predict([test_text,test_sentiment])\n",
    "    results = np.round(results)\n",
    "\n",
    "    test_df['start'],test_df['end'] = (abs(results[:,0])),(abs(results[:,1]))\n",
    "\n",
    "    test_df['start'] = test_df['start'].astype('int')\n",
    "    test_df['end'] = test_df['end'].astype('int')\n",
    "\n",
    "    test_df['selected_text'] = test_df[['text','start','end']].apply(lambda x:find_sel_text(x),axis=1)\n",
    "    return test_df['selected_text']"
   ]
  },
  {
   "cell_type": "code",
   "execution_count": 44,
   "metadata": {},
   "outputs": [
    {
     "data": {
      "text/plain": [
       "0    feel satisfied\n",
       "Name: selected_text, dtype: object"
      ]
     },
     "execution_count": 44,
     "metadata": {},
     "output_type": "execute_result"
    }
   ],
   "source": [
    "z = \"I feel satisfied after having my lunch\"\n",
    "\n",
    "get_sent(z, \"positive\")"
   ]
  },
  {
   "cell_type": "code",
   "execution_count": 45,
   "metadata": {},
   "outputs": [
    {
     "data": {
      "text/plain": [
       "0    as he was very angry\n",
       "Name: selected_text, dtype: object"
      ]
     },
     "execution_count": 45,
     "metadata": {},
     "output_type": "execute_result"
    }
   ],
   "source": [
    "z = \"Today, I got yelled by my boss as he was very angry\"\n",
    "\n",
    "get_sent(z, \"negative\")"
   ]
  },
  {
   "cell_type": "code",
   "execution_count": 46,
   "metadata": {},
   "outputs": [
    {
     "data": {
      "text/plain": [
       "0    manage her work\n",
       "Name: selected_text, dtype: object"
      ]
     },
     "execution_count": 46,
     "metadata": {},
     "output_type": "execute_result"
    }
   ],
   "source": [
    "z = \"She manage her work very properly\"\n",
    "\n",
    "get_sent(z, \"positive\")"
   ]
  },
  {
   "cell_type": "code",
   "execution_count": null,
   "metadata": {},
   "outputs": [],
   "source": []
  },
  {
   "cell_type": "code",
   "execution_count": null,
   "metadata": {},
   "outputs": [],
   "source": []
  },
  {
   "cell_type": "code",
   "execution_count": null,
   "metadata": {},
   "outputs": [],
   "source": []
  },
  {
   "cell_type": "code",
   "execution_count": null,
   "metadata": {},
   "outputs": [],
   "source": []
  }
 ],
 "metadata": {
  "kernelspec": {
   "display_name": "Python 3",
   "language": "python",
   "name": "python3"
  },
  "language_info": {
   "codemirror_mode": {
    "name": "ipython",
    "version": 3
   },
   "file_extension": ".py",
   "mimetype": "text/x-python",
   "name": "python",
   "nbconvert_exporter": "python",
   "pygments_lexer": "ipython3",
   "version": "3.8.5"
  }
 },
 "nbformat": 4,
 "nbformat_minor": 4
}
